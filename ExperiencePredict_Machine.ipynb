{
 "cells": [
  {
   "cell_type": "code",
   "execution_count": 1,
   "id": "b71a22a8",
   "metadata": {},
   "outputs": [],
   "source": [
    "import numpy as np\n",
    "import copy\n",
    "import matplotlib.pyplot as plt\n",
    "import scipy\n",
    "import csv\n",
    "import pandas as pd\n",
    "\n",
    "%matplotlib inline\n",
    "%load_ext autoreload\n",
    "%autoreload 2\n",
    "\n",
    "from sklearn import linear_model,preprocessing\n",
    "from sklearn.neighbors import KNeighborsClassifier\n",
    "from sklearn.model_selection import train_test_split"
   ]
  },
  {
   "cell_type": "code",
   "execution_count": 2,
   "id": "60207e99",
   "metadata": {},
   "outputs": [],
   "source": [
    "DATADIR = \"C:/Users/Enes/Desktop/Github Files/ExperiencePredict_Machine/StackOverflowSurvey\"\n",
    "\n",
    "df = pd.read_csv(DATADIR)"
   ]
  },
  {
   "cell_type": "code",
   "execution_count": 3,
   "id": "077fe8c0",
   "metadata": {},
   "outputs": [
    {
     "data": {
      "text/plain": [
       "Data Scientist                              143\n",
       "Data Engineer                               132\n",
       "Data Analyst                                 97\n",
       "Machine Learning Engineer                    41\n",
       "Research Scientist                           16\n",
       "Data Science Manager                         12\n",
       "Data Architect                               11\n",
       "Big Data Engineer                             8\n",
       "Machine Learning Scientist                    8\n",
       "Principal Data Scientist                      7\n",
       "AI Scientist                                  7\n",
       "Data Science Consultant                       7\n",
       "Director of Data Science                      7\n",
       "Data Analytics Manager                        7\n",
       "ML Engineer                                   6\n",
       "Computer Vision Engineer                      6\n",
       "BI Data Analyst                               6\n",
       "Lead Data Engineer                            6\n",
       "Data Engineering Manager                      5\n",
       "Business Data Analyst                         5\n",
       "Head of Data                                  5\n",
       "Applied Data Scientist                        5\n",
       "Applied Machine Learning Scientist            4\n",
       "Head of Data Science                          4\n",
       "Analytics Engineer                            4\n",
       "Data Analytics Engineer                       4\n",
       "Machine Learning Developer                    3\n",
       "Machine Learning Infrastructure Engineer      3\n",
       "Lead Data Scientist                           3\n",
       "Computer Vision Software Engineer             3\n",
       "Lead Data Analyst                             3\n",
       "Data Science Engineer                         3\n",
       "Principal Data Engineer                       3\n",
       "Principal Data Analyst                        2\n",
       "ETL Developer                                 2\n",
       "Product Data Analyst                          2\n",
       "Director of Data Engineering                  2\n",
       "Financial Data Analyst                        2\n",
       "Cloud Data Engineer                           2\n",
       "Lead Machine Learning Engineer                1\n",
       "NLP Engineer                                  1\n",
       "Head of Machine Learning                      1\n",
       "3D Computer Vision Researcher                 1\n",
       "Data Specialist                               1\n",
       "Staff Data Scientist                          1\n",
       "Big Data Architect                            1\n",
       "Finance Data Analyst                          1\n",
       "Marketing Data Analyst                        1\n",
       "Machine Learning Manager                      1\n",
       "Data Analytics Lead                           1\n",
       "Name: job_title, dtype: int64"
      ]
     },
     "execution_count": 3,
     "metadata": {},
     "output_type": "execute_result"
    }
   ],
   "source": [
    "df[\"job_title\"].value_counts()"
   ]
  },
  {
   "cell_type": "code",
   "execution_count": 5,
   "id": "f00b2fe9",
   "metadata": {},
   "outputs": [],
   "source": [
    "filt_1 = (df[\"experience_level\"] == \"MI\")\n",
    "filt_2 = (df[\"experience_level\"] != \"MI\")\n",
    "\n",
    "Y_train_set_pre = copy.deepcopy(df.iloc[:,[2]])\n",
    "X_train_set_pre = copy.deepcopy(df.iloc[:,[1,4,7,9,10,11]])\n",
    "\n",
    "Y_train_set_pre = copy.deepcopy(Y_train_set_pre)\n",
    "\n",
    "Y_train_set_pre.loc[filt_1 ,\"experience_level\"] = 1\n",
    "Y_train_set_pre.loc[filt_2 ,\"experience_level\"] = 0"
   ]
  },
  {
   "cell_type": "code",
   "execution_count": 6,
   "id": "c0bc851c",
   "metadata": {},
   "outputs": [],
   "source": [
    "labelencode = preprocessing.LabelEncoder()"
   ]
  },
  {
   "cell_type": "code",
   "execution_count": 7,
   "id": "7cf08ca5",
   "metadata": {},
   "outputs": [],
   "source": [
    "def preprocess(train_set_pre):\n",
    "    Columns = train_set_pre.columns.values.tolist()\n",
    "     # PandaSeries -> Numpyarray -> Array\n",
    "    columnsdic = {}    \n",
    "    \n",
    "    for i in Columns:\n",
    "        columnsdic[i] = labelencode.fit_transform(list(train_set_pre[i]))\n",
    "        \n",
    "    return columnsdic "
   ]
  },
  {
   "cell_type": "code",
   "execution_count": 8,
   "id": "28454a9e",
   "metadata": {},
   "outputs": [],
   "source": [
    "columnsdicx  = preprocess(X_train_set_pre)\n",
    "columnsdicy  = preprocess(Y_train_set_pre)\n",
    "\n",
    "X_processed = list(zip(columnsdicx[\"work_year\"],columnsdicx[\"job_title\"],columnsdicx[\"salary_in_usd\"],columnsdicx[\"remote_ratio\"],columnsdicx[\"company_location\"],columnsdicx[\"company_size\"]))\n",
    "Y_processed = list((columnsdicy[\"experience_level\"]))\n"
   ]
  },
  {
   "cell_type": "code",
   "execution_count": 9,
   "id": "f112ca8a",
   "metadata": {},
   "outputs": [],
   "source": [
    "Y_processednumpy = np.array(Y_processed)\n",
    "X_processednumpy = np.array(X_processed)"
   ]
  },
  {
   "cell_type": "code",
   "execution_count": 10,
   "id": "8206aa7f",
   "metadata": {},
   "outputs": [],
   "source": [
    "Y_processed_test= Y_processednumpy[50:80].tolist()\n",
    "X_processed_test= X_processednumpy[50:80].tolist()"
   ]
  },
  {
   "cell_type": "code",
   "execution_count": 12,
   "id": "e5fae87c",
   "metadata": {},
   "outputs": [],
   "source": [
    "def to_nparr(X_train,X_test,Y_train,Y_test):\n",
    "    \"\"\"\n",
    "    Convert processed data to numpy arrays\n",
    "    \n",
    "    Arguments:\n",
    "    X_train,X_test,Y_train,Y_test -- List from skitlearn train_test_split function. \n",
    "    \"\"\"\n",
    "    processedarrays = {\n",
    "                        \"X_train\" : np.array( X_train,dtype=int),\n",
    "                        \"X_test\"  : np.array( X_test, dtype=int),\n",
    "                        \"Y_train\" : np.array( Y_train, dtype=int),\n",
    "                        \"Y_test\"  : np.array( Y_train, dtype=int)\n",
    "    }\n",
    "    \n",
    "    return processedarrays"
   ]
  },
  {
   "cell_type": "code",
   "execution_count": 13,
   "id": "32effe9b",
   "metadata": {},
   "outputs": [],
   "source": [
    "def adjust(X_train,X_test,Y_train,Y_test):\n",
    "\n",
    "    processedarrays_0 = to_nparr(X_train,X_test,Y_train,Y_test)\n",
    "    \n",
    "    Y_train = processedarrays_0[\"Y_train\"].reshape(processedarrays_0[\"Y_train\"].shape[0],1)\n",
    "    Y_test = processedarrays_0[\"Y_test\"].reshape(processedarrays_0[\"Y_train\"].shape[0],1)\n",
    "   \n",
    "    processedarrays = {\n",
    "        \n",
    "                       \"X_train\"  :  processedarrays_0[\"X_train\"].T/368 ,\n",
    "                        \"X_test\"  :  processedarrays_0[\"X_test\"].T/368 ,\n",
    "                        \"Y_train\" :  Y_train.T ,\n",
    "                        \"Y_test\"  :  Y_test.T \n",
    "                        }\n",
    "    \n",
    "    return processedarrays"
   ]
  },
  {
   "cell_type": "code",
   "execution_count": 14,
   "id": "14baa068",
   "metadata": {},
   "outputs": [],
   "source": [
    "def initialize_with_zeros(dim):\n",
    "\n",
    "    w = np.zeros((dim,1),dtype=float)\n",
    "    b = 0.0\n",
    "\n",
    "    return w, b"
   ]
  },
  {
   "cell_type": "code",
   "execution_count": 15,
   "id": "12dd3c34",
   "metadata": {},
   "outputs": [],
   "source": [
    "def sigmoid(z):\n",
    "    \"\"\"\n",
    "    Compute the sigmoid of z\n",
    "\n",
    "    Arguments:\n",
    "    z -- A scalar or numpy array of any size.\n",
    "    \n",
    "    s = np.maximum(0,z) <- reLU\n",
    "    \"\"\"\n",
    "    \n",
    "    s =1/(1 + np.exp(-z))\n",
    "    \n",
    "    \n",
    "    return s"
   ]
  },
  {
   "cell_type": "code",
   "execution_count": 18,
   "id": "8762f998",
   "metadata": {},
   "outputs": [],
   "source": [
    "def replaceZeroes(data):\n",
    "    data = hardcopy(data)\n",
    "    minnonzero= np.min(data[np.nonzero(data)])\n",
    "    data[data == 0] = minnonzero\n",
    "    \n",
    "    return data"
   ]
  },
  {
   "cell_type": "code",
   "execution_count": 25,
   "id": "71cf6bad",
   "metadata": {},
   "outputs": [],
   "source": [
    "def propagate(w, b, X, Y):\n",
    "    \"\"\"\n",
    "    \n",
    "    \"\"\"\n",
    "    \n",
    "    m = X.shape[1]\n",
    "    \n",
    "    # FORWARD PROPAGATION (TO FIND COST)\n",
    "     \n",
    "    \n",
    "    A = sigmoid(np.dot(w.T,X) + b)\n",
    "    \n",
    "    cost = -1/m*(np.sum(Y*np.log(A)+ (1-Y)*np.log(1-A)))\n",
    "    \n",
    "    \n",
    "    # BACKWARD PROPAGATION (TO FIND GRAD)\n",
    "    \n",
    "    dw = 1/m * np.dot(X,(A-Y).T)\n",
    "    db = 1/m*np.sum(A-Y)\n",
    "\n",
    "    cost = np.squeeze(np.array(cost))\n",
    "\n",
    "    \n",
    "    grads = {\"dw\": dw,\n",
    "             \"db\": db}\n",
    "    \n",
    "    return grads, cost"
   ]
  },
  {
   "cell_type": "code",
   "execution_count": 23,
   "id": "94d4db82",
   "metadata": {},
   "outputs": [],
   "source": [
    "def optimize(w, b, X, Y, num_iterations=100, learning_rate=0.009, print_cost=False):\n",
    "    \"\"\"\n",
    "    This function optimizes w and b by running a gradient descent algorithm\n",
    "    \n",
    "    Arguments:\n",
    "    w -- weights, a numpy array of size (6, 1)\n",
    "    b -- bias, a scalar\n",
    "    X -- data of shape (6, number of examples)\n",
    "    Y -- true \"label\" vector (containing 0 if non-EX, 1 if EX), of shape (1, number of examples)\n",
    "    num_iterations -- number of iterations of the optimization loop\n",
    "    learning_rate -- learning rate of the gradient descent update rule\n",
    "    print_cost -- True to print the loss every 100 steps\n",
    "    \n",
    "    Returns:\n",
    "    params -- dictionary containing the weights w and bias b\n",
    "    grads -- dictionary containing the gradients of the weights and bias with respect to the cost function\n",
    "    costs -- list of all the costs computed during the optimization, this will be used to plot the learning curve.\n",
    "\n",
    "    \"\"\"\n",
    "    \n",
    "    w = copy.deepcopy(w)\n",
    "    b = copy.deepcopy(b)\n",
    "    \n",
    "    costs = []\n",
    "    \n",
    "    for i in range(num_iterations):\n",
    "        # Cost and gradient calculation \n",
    "        \n",
    "        grads, cost = propagate(w, b, X, Y)\n",
    "    \n",
    "        # Retrieve derivatives from grads\n",
    "        dw = grads[\"dw\"]\n",
    "        db = grads[\"db\"]\n",
    "        \n",
    "        # update rule \n",
    "        w = w - learning_rate*dw\n",
    "        b = b - learning_rate*db\n",
    "        \n",
    "        \n",
    "        # Record the costs\n",
    "        if i % 100 == 0:\n",
    "            costs.append(cost)\n",
    "        \n",
    "            # Print the cost every 100 training iterations\n",
    "            if print_cost:\n",
    "                print (\"Cost after iteration %i: %f\" %(i, cost))\n",
    "    \n",
    "    params = {\"w\": w,\n",
    "              \"b\": b}\n",
    "    \n",
    "    grads = {\"dw\": dw,\n",
    "             \"db\": db}\n",
    "    \n",
    "    return params, grads, costs"
   ]
  },
  {
   "cell_type": "code",
   "execution_count": 26,
   "id": "78bbd8de",
   "metadata": {},
   "outputs": [],
   "source": [
    "def predict(w, b, X):\n",
    "    '''\n",
    "    Predict the label using logistic regression \n",
    "    \n",
    "    Arguments:\n",
    "    w -- weights, a numpy array of size (6, 1)\n",
    "    b -- bias, a scalar\n",
    "    X -- data of size (6, number of examples)\n",
    "    \n",
    "    Returns:\n",
    "    Y_prediction -- a numpy array (vector) containing all predictions (0/1) for the examples in X\n",
    "    '''\n",
    "    \n",
    "    m = X.shape[1]\n",
    "    Y_prediction = np.zeros((1, m))\n",
    "    w = w.reshape(X.shape[0], 1)\n",
    "    \n",
    "    A = sigmoid(np.dot(w.T,X) + b)\n",
    "    \n",
    "    \n",
    "    for i in range(A.shape[1]):\n",
    "         \n",
    "        if A[0, i] > 0.5 :\n",
    "             Y_prediction[0,i] = 1\n",
    "        else:\n",
    "             Y_prediction[0,i] = 0\n",
    "\n",
    "    \n",
    "    return Y_prediction"
   ]
  },
  {
   "cell_type": "code",
   "execution_count": 30,
   "id": "484553d4",
   "metadata": {},
   "outputs": [],
   "source": [
    "def model(X_train, Y_train, X_test, Y_test, num_iterations=10, learning_rate=0.5, print_cost=False):\n",
    "    \"\"\"\n",
    "    Builds the logistic regression model by calling all the functions\n",
    "    \n",
    "    Arguments:\n",
    "    X_train -- training set represented by a numpy array of shape (number of examples, m_train)\n",
    "    Y_train -- training labels represented by a numpy array (vector) of shape (1, m_train)\n",
    "    X_test -- test set represented by a numpy array of shape (number of examples, m_test)\n",
    "    Y_test -- test labels represented by a numpy array (vector) of shape (1, m_test)\n",
    "    num_iterations -- hyperparameter representing the number of iterations to optimize the parameters\n",
    "    learning_rate -- hyperparameter representing the learning rate used in the update rule of optimize()\n",
    "    print_cost -- Set to True to print the cost every 100 iterations\n",
    "    \n",
    "    Returns:\n",
    "    d -- dictionary containing information about the model.\n",
    "    \"\"\" \n",
    "    \n",
    "    \n",
    "    processedarrays = adjust(X_train,X_test,Y_train,Y_test)\n",
    "    \n",
    "    w, b = initialize_with_zeros(processedarrays[\"X_train\"].shape[0])\n",
    "    \n",
    "    \n",
    "    params, grads, costs = optimize(w, b, processedarrays[\"X_train\"], processedarrays[\"Y_train\"], num_iterations, \n",
    "                                    learning_rate, print_cost)\n",
    "    \n",
    "    # Retrieve parameters w and b from dictionary \"params\"\n",
    "    w = params[\"w\"]\n",
    "    b = params[\"b\"]\n",
    "\n",
    "    \n",
    "    Y_prediction_test =  predict(w, b, processedarrays[\"X_test\"])\n",
    "    Y_prediction_train =  predict(w, b, processedarrays[\"X_train\"])\n",
    "    \n",
    "    Y_prediction_test_flatten = Y_prediction_test.reshape(Y_prediction_test.shape[0],-1).T\n",
    "    Y_prediction_train_flatten = Y_prediction_train.reshape(Y_prediction_train.shape[0],-1).T\n",
    "    \n",
    "   # Print train/test Errors\n",
    "    if print_cost:\n",
    "        print(\"train accuracy: {} %\".format(100 - np.mean(np.abs(Y_prediction_train_flatten - processedarrays[\"Y_train\"])) * 100))\n",
    "        print(\"test accuracy: {} %\".format(100 - np.mean(np.abs(Y_prediction_test_flatten - processedarrays[\"Y_test\"])) * 100))\n",
    "   \n",
    "    \n",
    "    d = {\"costs\": costs,\n",
    "         \"Y_prediction_test\":Y_prediction_test_flatten, \n",
    "         \"Y_prediction_train\" : Y_prediction_train_flatten, \n",
    "         \"w\" : w, \n",
    "         \"b\" : b,\n",
    "         \"learning_rate\" : learning_rate,\n",
    "         \"num_iterations\": num_iterations}\n",
    "    \n",
    "    return d"
   ]
  },
  {
   "cell_type": "code",
   "execution_count": 53,
   "id": "66b8d36a",
   "metadata": {
    "scrolled": true
   },
   "outputs": [
    {
     "name": "stdout",
     "output_type": "stream",
     "text": [
      "Cost after iteration 0: 0.693147\n",
      "Cost after iteration 100: 0.611575\n",
      "Cost after iteration 200: 0.604396\n",
      "Cost after iteration 300: 0.602298\n",
      "Cost after iteration 400: 0.601638\n",
      "Cost after iteration 500: 0.601400\n",
      "Cost after iteration 600: 0.601292\n",
      "Cost after iteration 700: 0.601224\n",
      "Cost after iteration 800: 0.601169\n",
      "Cost after iteration 900: 0.601120\n",
      "train accuracy: 58.91615935991141 %\n",
      "test accuracy: 54.96979681493685 %\n"
     ]
    }
   ],
   "source": [
    "logistic_regression_model = model(X_processed, Y_processed,X_processed_test, Y_processed_test, num_iterations=1000, learning_rate=0.5, print_cost=True)"
   ]
  },
  {
   "cell_type": "code",
   "execution_count": 54,
   "id": "01f20ecd",
   "metadata": {
    "scrolled": true
   },
   "outputs": [
    {
     "data": {
      "image/png": "[encoded data removed]",
      "text/plain": [
       "<Figure size 432x288 with 1 Axes>"
      ]
     },
     "metadata": {
      "needs_background": "light"
     },
     "output_type": "display_data"
    }
   ],
   "source": [
    "costs = np.squeeze(logistic_regression_model['costs'])\n",
    "plt.plot(costs)\n",
    "plt.ylabel('cost')\n",
    "plt.xlabel('iterations (per hundreds)')\n",
    "plt.title(\"Learning rate =\" + str(logistic_regression_model[\"learning_rate\"]))\n",
    "plt.show()"
   ]
  }
 ],
 "metadata": {
  "kernelspec": {
   "display_name": "Python 3 (ipykernel)",
   "language": "python",
   "name": "python3"
  },
  "language_info": {
   "codemirror_mode": {
    "name": "ipython",
    "version": 3
   },
   "file_extension": ".py",
   "mimetype": "text/x-python",
   "name": "python",
   "nbconvert_exporter": "python",
   "pygments_lexer": "ipython3",
   "version": "3.9.7"
  }
 },
 "nbformat": 4,
 "nbformat_minor": 5
}
